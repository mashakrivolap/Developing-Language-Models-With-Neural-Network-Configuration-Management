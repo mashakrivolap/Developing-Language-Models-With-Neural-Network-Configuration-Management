{
 "cells": [
  {
   "cell_type": "code",
   "execution_count": 3,
   "id": "P0pAwm_f9yg-",
   "metadata": {
    "id": "P0pAwm_f9yg-"
   },
   "outputs": [],
   "source": [
    "import pandas as pd\n",
    "from transformers import BertTokenizer, BertForMaskedLM, DataCollatorForLanguageModeling\n",
    "import torch\n",
    "from torch.utils.data import Dataset, DataLoader\n",
    "import torch\n",
    "import time\n",
    "from tqdm import tqdm\n",
    "from sklearn.model_selection import train_test_split"
   ]
  },
  {
   "cell_type": "code",
   "execution_count": 4,
   "id": "Ix-OYMJbxsXV",
   "metadata": {
    "id": "Ix-OYMJbxsXV"
   },
   "outputs": [],
   "source": [
    "df = pd.read_csv(\"balancedmodified.csv\")"
   ]
  },
  {
   "cell_type": "code",
   "execution_count": 5,
   "id": "Ljhfl-v2vbiD",
   "metadata": {
    "id": "Ljhfl-v2vbiD"
   },
   "outputs": [],
   "source": [
    "modified_df = df[df['modified'] == True].reset_index(drop=True)\n",
    "base_df = df[df['modified'] == False].reset_index(drop=True)"
   ]
  },
  {
   "cell_type": "code",
   "execution_count": 6,
   "id": "c2qw4L89rd37",
   "metadata": {
    "colab": {
     "base_uri": "https://localhost:8080/"
    },
    "id": "c2qw4L89rd37",
    "outputId": "21e18531-551e-4a91-e92a-54aaa0dfacc9"
   },
   "outputs": [
    {
     "data": {
      "text/plain": [
       "137553"
      ]
     },
     "execution_count": 6,
     "metadata": {},
     "output_type": "execute_result"
    }
   ],
   "source": [
    "len(modified_df)"
   ]
  },
  {
   "cell_type": "code",
   "execution_count": 8,
   "id": "NZ1t694lxHgJ",
   "metadata": {
    "id": "NZ1t694lxHgJ"
   },
   "outputs": [],
   "source": [
    "train_modified, val_modified = train_test_split(\n",
    "    modified_df,\n",
    "    test_size=25000,\n",
    "    random_state=42\n",
    ")\n",
    "\n",
    "val_base = base_df.sample(10000, random_state=42)\n",
    "\n",
    "train_data = {\n",
    "    'text': train_modified['polypersonal_sent'].tolist()[:60000]\n",
    "}\n",
    "pd.DataFrame(train_data).to_csv(\"train_dataset.csv\", index=False)"
   ]
  },
  {
   "cell_type": "code",
   "execution_count": 9,
   "id": "W-mC6gKkArbV",
   "metadata": {
    "colab": {
     "base_uri": "https://localhost:8080/",
     "height": 388,
     "referenced_widgets": [
      "cc3123a0efc4419f9eb11b9058a3278e",
      "cc99d22c1deb4806a26684388499920f",
      "0f9cbbe918a345b7b67a8b69a9c4d23e",
      "98ec45bd631f4afdb19e504f9bda304e",
      "e91852b58e784d6da2e7cc9bdded91d9",
      "435cb951a3ad4dba94aa310bc21cfe40",
      "f5c8e7e129974cdca0b2768d5938c99e",
      "91928e1c61a448549ed206ef31798058",
      "c56d8f49140f4ead9498d0b73f519ddb",
      "3bd4d30ccb614d51aa843926ab5cfdfb",
      "8d5ff19381d243afb7b6f5d6aa8fa8a1",
      "0b8a2fc5799e4acfa8f5607ac760880d",
      "fa04d598e9cf4d9895ded867ce9dc041",
      "decff6a632504ef4874f8cb20baf2db5",
      "e8c9b17e9a154c1bb9fff68d34eb7610",
      "48f89bc5692d4e128cabe23bd810501c",
      "9b425069f43f480ab7dff233aecc4284",
      "38732b31d1ae430bb1fea66e2a469d35",
      "630aede87cdf406799e1a7350ae1bdf6",
      "808bafc7ec034fe0a85905a4166bd646",
      "70e62c3b70e346a3af9f0458023edf28",
      "6fcfa564d01e477aaa7492743e5d137e",
      "f1d48a731e184513a1058896008f056d",
      "2117378f8534466baa392c7893426836",
      "344c5e58ff8f47a894100e890dc79ea9",
      "7895749a30564b2485345587f8f847a9",
      "8f8ffdf707a0461592df3a6e2eff06f5",
      "5bffb773860746b4a0ab49aa61c7c841",
      "765b1c1f5fce42358983eea99e4c389e",
      "fb0302acaabc4842adba213a14a1ccb4",
      "3861c079e3d44695a670116d0762f288",
      "3bcc5ab33baa4c1a8f5398630a10e644",
      "58d633431eec465a9da929b508b3a3eb",
      "ace341d9470c4541887bad2f1d3a06ce",
      "1c12e971e2a94365ba48426904a5b9a9",
      "58164b8106fb4339b56cd5055e4053e5",
      "5355876f4df44a609ccc15738c04e3df",
      "6bb5c87a097340cbb6cdac08714a3f72",
      "887ee4d7755d4544ae68e51a9a11740d",
      "016dc6803f6c4433ac1c4f02edf15eaf",
      "ae73db69e5364e9190a0d7a5f8510281",
      "bdfe4d524902488ab533555b8380a211",
      "2ac3f5e76a804675ac17c62c9bde451c",
      "5ea00c934e9a4bba96a27c8e1637659a",
      "71e15e91ec56417e990c40c59e32dd73",
      "005713992b014b1ba20807344995b900",
      "23d81753dcaf4204b237c255f6657dbc",
      "08be1ac16a7946c19ef5d9c30a388179",
      "996e1d0791e144de88ab32c45dbee756",
      "e6b06fbb1c05488bb7d9c385daf55e63",
      "cafa7bdde2cf4eddb4638dde9edada1c",
      "4be03d8a49f044db8d51c2f82c98faf8",
      "85b983cc69d24cf9b72bad77e3ebc052",
      "1a23981f2f874082b2601f8fe4c1de93",
      "cf8ba464be2746a28b8ee2488804a8e5"
     ]
    },
    "collapsed": true,
    "id": "W-mC6gKkArbV",
    "outputId": "0de7a524-cd93-45b7-8765-6da12d89969b"
   },
   "outputs": [
    {
     "name": "stderr",
     "output_type": "stream",
     "text": [
      "/usr/local/lib/python3.11/dist-packages/huggingface_hub/utils/_auth.py:94: UserWarning: \n",
      "The secret `HF_TOKEN` does not exist in your Colab secrets.\n",
      "To authenticate with the Hugging Face Hub, create a token in your settings tab (https://huggingface.co/settings/tokens), set it as secret in your Google Colab and restart your session.\n",
      "You will be able to reuse this secret in all of your notebooks.\n",
      "Please note that authentication is recommended but still optional to access public models or datasets.\n",
      "  warnings.warn(\n"
     ]
    },
    {
     "data": {
      "application/vnd.jupyter.widget-view+json": {
       "model_id": "cc3123a0efc4419f9eb11b9058a3278e",
       "version_major": 2,
       "version_minor": 0
      },
      "text/plain": [
       "tokenizer_config.json:   0%|          | 0.00/49.0 [00:00<?, ?B/s]"
      ]
     },
     "metadata": {},
     "output_type": "display_data"
    },
    {
     "data": {
      "application/vnd.jupyter.widget-view+json": {
       "model_id": "0b8a2fc5799e4acfa8f5607ac760880d",
       "version_major": 2,
       "version_minor": 0
      },
      "text/plain": [
       "vocab.txt:   0%|          | 0.00/255k [00:00<?, ?B/s]"
      ]
     },
     "metadata": {},
     "output_type": "display_data"
    },
    {
     "data": {
      "application/vnd.jupyter.widget-view+json": {
       "model_id": "f1d48a731e184513a1058896008f056d",
       "version_major": 2,
       "version_minor": 0
      },
      "text/plain": [
       "tokenizer.json:   0%|          | 0.00/485k [00:00<?, ?B/s]"
      ]
     },
     "metadata": {},
     "output_type": "display_data"
    },
    {
     "data": {
      "application/vnd.jupyter.widget-view+json": {
       "model_id": "ace341d9470c4541887bad2f1d3a06ce",
       "version_major": 2,
       "version_minor": 0
      },
      "text/plain": [
       "config.json:   0%|          | 0.00/433 [00:00<?, ?B/s]"
      ]
     },
     "metadata": {},
     "output_type": "display_data"
    },
    {
     "name": "stderr",
     "output_type": "stream",
     "text": [
      "Xet Storage is enabled for this repo, but the 'hf_xet' package is not installed. Falling back to regular HTTP download. For better performance, install the package with: `pip install huggingface_hub[hf_xet]` or `pip install hf_xet`\n",
      "WARNING:huggingface_hub.file_download:Xet Storage is enabled for this repo, but the 'hf_xet' package is not installed. Falling back to regular HTTP download. For better performance, install the package with: `pip install huggingface_hub[hf_xet]` or `pip install hf_xet`\n"
     ]
    },
    {
     "data": {
      "application/vnd.jupyter.widget-view+json": {
       "model_id": "71e15e91ec56417e990c40c59e32dd73",
       "version_major": 2,
       "version_minor": 0
      },
      "text/plain": [
       "model.safetensors:   0%|          | 0.00/439M [00:00<?, ?B/s]"
      ]
     },
     "metadata": {},
     "output_type": "display_data"
    },
    {
     "name": "stderr",
     "output_type": "stream",
     "text": [
      "Some weights of the model checkpoint at bert-base-german-cased were not used when initializing BertForMaskedLM: ['bert.pooler.dense.bias', 'bert.pooler.dense.weight', 'cls.seq_relationship.bias', 'cls.seq_relationship.weight']\n",
      "- This IS expected if you are initializing BertForMaskedLM from the checkpoint of a model trained on another task or with another architecture (e.g. initializing a BertForSequenceClassification model from a BertForPreTraining model).\n",
      "- This IS NOT expected if you are initializing BertForMaskedLM from the checkpoint of a model that you expect to be exactly identical (initializing a BertForSequenceClassification model from a BertForSequenceClassification model).\n"
     ]
    }
   ],
   "source": [
    "model_name = \"bert-base-german-cased\"\n",
    "tokenizer = BertTokenizer.from_pretrained(model_name)\n",
    "base_model = BertForMaskedLM.from_pretrained(model_name)\n",
    "\n",
    "for param in base_model.parameters():\n",
    "    param.requires_grad = False\n",
    "\n",
    "class CustomBERT(torch.nn.Module):\n",
    "    def __init__(self, base_model, hidden_size=768):\n",
    "        super().__init__()\n",
    "        self.bert = base_model.bert\n",
    "        self.lstm = torch.nn.LSTM(hidden_size, hidden_size, batch_first=True)\n",
    "        self.classifier = torch.nn.Linear(hidden_size, tokenizer.vocab_size)\n",
    "\n",
    "    def forward(self, input_ids, attention_mask):\n",
    "        outputs = self.bert(input_ids, attention_mask=attention_mask)\n",
    "        sequence_output = outputs.last_hidden_state\n",
    "        lstm_output, _ = self.lstm(sequence_output)\n",
    "        logits = self.classifier(lstm_output)\n",
    "        return logits\n",
    "\n",
    "model = CustomBERT(base_model)"
   ]
  },
  {
   "cell_type": "code",
   "execution_count": 10,
   "id": "vfVWbV1cArek",
   "metadata": {
    "id": "vfVWbV1cArek"
   },
   "outputs": [],
   "source": [
    "class MLMDataset(Dataset):\n",
    "    def __init__(self, texts):\n",
    "        self.texts = texts\n",
    "\n",
    "    def __len__(self):\n",
    "        return len(self.texts)\n",
    "\n",
    "    def __getitem__(self, idx):\n",
    "        encoding = tokenizer(\n",
    "            self.texts[idx],\n",
    "            padding=\"max_length\",\n",
    "            truncation=True,\n",
    "            max_length=128,\n",
    "            return_tensors=\"pt\"\n",
    "        )\n",
    "        return {\n",
    "            \"input_ids\": encoding[\"input_ids\"].squeeze(),\n",
    "            \"attention_mask\": encoding[\"attention_mask\"].squeeze()\n",
    "        }\n",
    "\n",
    "train_dataset = MLMDataset(train_data['text'])\n",
    "train_loader = DataLoader(train_dataset, batch_size=8, shuffle=True)"
   ]
  },
  {
   "cell_type": "code",
   "execution_count": 12,
   "id": "77xiRvAbC5av",
   "metadata": {
    "colab": {
     "base_uri": "https://localhost:8080/"
    },
    "id": "77xiRvAbC5av",
    "outputId": "5c4be42b-3201-44e6-fae1-69ceebe3fab6"
   },
   "outputs": [
    {
     "metadata": {
      "tags": null
     },
     "name": "stderr",
     "output_type": "stream",
     "text": [
      "Epoch 1/7: 100%|██████████| 7500/7500 [16:24<00:00,  7.62batch/s]\n"
     ]
    },
    {
     "metadata": {
      "tags": null
     },
     "name": "stdout",
     "output_type": "stream",
     "text": [
      "Epoch 1, Loss: 5.4435, Duration: 984.65 seconds\n"
     ]
    },
    {
     "metadata": {
      "tags": null
     },
     "name": "stderr",
     "output_type": "stream",
     "text": [
      "Epoch 2/7: 100%|██████████| 7500/7500 [16:28<00:00,  7.59batch/s]\n"
     ]
    },
    {
     "metadata": {
      "tags": null
     },
     "name": "stdout",
     "output_type": "stream",
     "text": [
      "Epoch 2, Loss: 3.9654, Duration: 988.74 seconds\n"
     ]
    },
    {
     "metadata": {
      "tags": null
     },
     "name": "stderr",
     "output_type": "stream",
     "text": [
      "Epoch 3/7: 100%|██████████| 7500/7500 [16:28<00:00,  7.58batch/s]\n"
     ]
    },
    {
     "metadata": {
      "tags": null
     },
     "name": "stdout",
     "output_type": "stream",
     "text": [
      "Epoch 3, Loss: 3.2060, Duration: 988.91 seconds\n"
     ]
    },
    {
     "metadata": {
      "tags": null
     },
     "name": "stderr",
     "output_type": "stream",
     "text": [
      "Epoch 4/7: 100%|██████████| 7500/7500 [16:29<00:00,  7.58batch/s]\n"
     ]
    },
    {
     "metadata": {
      "tags": null
     },
     "name": "stdout",
     "output_type": "stream",
     "text": [
      "Epoch 4, Loss: 2.6388, Duration: 989.45 seconds\n"
     ]
    },
    {
     "name": "stderr",
     "output_type": "stream",
     "text": [
      "Epoch 5/7: 100%|██████████| 7500/7500 [16:31<00:00,  7.56batch/s]"
     ]
    },
    {
     "name": "stdout",
     "output_type": "stream",
     "text": [
      "Epoch 5, Loss: 2.1871, Duration: 991.78 seconds\n"
     ]
    },
    {
     "name": "stderr",
     "output_type": "stream",
     "text": [
      "\n"
     ]
    }
   ],
   "source": [
    "device = torch.device(\"cuda\" if torch.cuda.is_available() else \"cpu\")\n",
    "model.to(device)\n",
    "optimizer = torch.optim.AdamW(model.parameters(), lr=2e-5)\n",
    "data_collator = DataCollatorForLanguageModeling(tokenizer, mlm_probability=0.15)\n",
    "\n",
    "for epoch in range(5):\n",
    "    start_time = time.time()\n",
    "\n",
    "    model.train()\n",
    "    total_loss = 0\n",
    "    num_batches = len(train_loader)\n",
    "\n",
    "\n",
    "    for batch_idx, batch in tqdm(enumerate(train_loader), total=num_batches, desc=f'Epoch {epoch + 1}/{7}', unit='batch'):\n",
    "        input_ids = batch[\"input_ids\"].to(device)\n",
    "        attention_mask = batch[\"attention_mask\"].to(device)\n",
    "\n",
    "\n",
    "        masked_inputs = data_collator([{\"input_ids\": ids.cpu().numpy()} for ids in input_ids])\n",
    "        masked_ids = masked_inputs[\"input_ids\"].to(device)\n",
    "\n",
    "        outputs = model(masked_ids, attention_mask)\n",
    "        loss = torch.nn.functional.cross_entropy(\n",
    "            outputs.view(-1, tokenizer.vocab_size),\n",
    "            input_ids.view(-1),\n",
    "            ignore_index=tokenizer.pad_token_id\n",
    "        )\n",
    "\n",
    "        optimizer.zero_grad()\n",
    "        loss.backward()\n",
    "        optimizer.step()\n",
    "\n",
    "        total_loss += loss.item()\n",
    "\n",
    "    end_time = time.time()\n",
    "    epoch_duration = end_time - start_time\n",
    "\n",
    "    print(f\"Epoch {epoch + 1}, Loss: {total_loss / num_batches:.4f}, Duration: {epoch_duration:.2f} seconds\")"
   ]
  },
  {
   "cell_type": "code",
   "execution_count": null,
   "id": "mvtnwhS1go8n",
   "metadata": {
    "id": "mvtnwhS1go8n"
   },
   "outputs": [],
   "source": [
    "import numpy as np\n",
    "from sklearn.linear_model import LogisticRegression\n",
    "from sklearn.model_selection import train_test_split\n",
    "from sklearn.metrics import accuracy_score\n",
    "\n",
    "def get_embeddings(model, texts, batch_size=32):\n",
    "    model.eval()\n",
    "    embeddings = []\n",
    "\n",
    "    dataset = MLMDataset(texts)\n",
    "    loader = DataLoader(dataset, batch_size=batch_size)\n",
    "\n",
    "    with torch.no_grad():\n",
    "        for batch in tqdm(loader):\n",
    "            inputs = {k: v.to(device) for k, v in batch.items() if k != \"flag\"}\n",
    "            outputs = model.bert(**inputs).last_hidden_state\n",
    "            embeddings.append(outputs.mean(dim=1).cpu().numpy())\n",
    "\n",
    "    return np.concatenate(embeddings)\n",
    "\n",
    "base_texts = df[df['modified'] == False]['base_sent'].tolist()[:5000]\n",
    "poly_texts = df[df['modified'] == True]['polypersonal_sent'].tolist()[:5000]"
   ]
  },
  {
   "cell_type": "code",
   "execution_count": 35,
   "id": "Hwr3vuTkf3VJ",
   "metadata": {
    "colab": {
     "base_uri": "https://localhost:8080/"
    },
    "id": "Hwr3vuTkf3VJ",
    "outputId": "e7ec1b33-1015-49eb-ecea-dae3e5294508"
   },
   "outputs": [
    {
     "name": "stderr",
     "output_type": "stream",
     "text": [
      "100%|██████████| 157/157 [00:34<00:00,  4.53it/s]\n",
      "100%|██████████| 157/157 [00:34<00:00,  4.58it/s]\n"
     ]
    },
    {
     "name": "stdout",
     "output_type": "stream",
     "text": [
      "Результаты:\n",
      "Точность на реальных данных: 0.9920\n",
      "Точность на перемешанных данных: 0.5020\n",
      "Majority baseline: 0.5\n"
     ]
    }
   ],
   "source": [
    "base_emb = get_embeddings(base_model, base_texts)\n",
    "poly_emb = get_embeddings(base_model, poly_texts)\n",
    "\n",
    "X = np.concatenate([base_emb, poly_emb])\n",
    "y = np.array([0]*len(base_emb) + [1]*len(poly_emb))\n",
    "\n",
    "np.random.seed(42)\n",
    "y_shuffled = np.random.permutation(y)\n",
    "\n",
    "def train_and_evaluate(X, y, test_size=0.2):\n",
    "    X_train, X_test, y_train, y_test = train_test_split(X, y, test_size=test_size)\n",
    "    clf = LogisticRegression(max_iter=1000)\n",
    "    clf.fit(X_train, y_train)\n",
    "    return accuracy_score(y_test, clf.predict(X_test))\n",
    "\n",
    "\n",
    "real_acc = train_and_evaluate(X, y)\n",
    "shuffled_acc = train_and_evaluate(X, y_shuffled)\n",
    "\n",
    "print(f\"Результаты:\\n\"\n",
    "      f\"Точность на реальных данных: {real_acc:.4f}\\n\"\n",
    "      f\"Точность на перемешанных данных: {shuffled_acc:.4f}\\n\"\n",
    "      f\"Majority baseline: 0.5\")"
   ]
  },
  {
   "cell_type": "code",
   "execution_count": 15,
   "id": "E2NE5YqXnpRH",
   "metadata": {
    "colab": {
     "base_uri": "https://localhost:8080/"
    },
    "id": "E2NE5YqXnpRH",
    "outputId": "68a342cd-709c-4b3d-d91b-44782771610b"
   },
   "outputs": [
    {
     "name": "stderr",
     "output_type": "stream",
     "text": [
      "Some weights of the model checkpoint at bert-base-german-cased were not used when initializing BertForMaskedLM: ['bert.pooler.dense.bias', 'bert.pooler.dense.weight', 'cls.seq_relationship.bias', 'cls.seq_relationship.weight']\n",
      "- This IS expected if you are initializing BertForMaskedLM from the checkpoint of a model trained on another task or with another architecture (e.g. initializing a BertForSequenceClassification model from a BertForPreTraining model).\n",
      "- This IS NOT expected if you are initializing BertForMaskedLM from the checkpoint of a model that you expect to be exactly identical (initializing a BertForSequenceClassification model from a BertForSequenceClassification model).\n"
     ]
    },
    {
     "name": "stdout",
     "output_type": "stream",
     "text": [
      "Оригинальная модель:\n"
     ]
    },
    {
     "name": "stderr",
     "output_type": "stream",
     "text": [
      "Evaluating perplexity: 100%|██████████| 1250/1250 [01:34<00:00, 13.25batch/s]\n",
      "Evaluating perplexity: 100%|██████████| 1250/1250 [01:33<00:00, 13.38batch/s]\n"
     ]
    },
    {
     "name": "stdout",
     "output_type": "stream",
     "text": [
      "\n",
      "Наша модель:\n"
     ]
    },
    {
     "name": "stderr",
     "output_type": "stream",
     "text": [
      "Evaluating perplexity: 100%|██████████| 1250/1250 [01:45<00:00, 11.84batch/s]\n",
      "Evaluating perplexity: 100%|██████████| 1250/1250 [01:45<00:00, 11.80batch/s]\n"
     ]
    }
   ],
   "source": [
    "def evaluate_perplexity(model, loader, device=\"cpu\"):\n",
    "    model.to(device)\n",
    "    model.eval()\n",
    "    total_loss = 0\n",
    "    total_tokens = 0\n",
    "\n",
    "    with torch.no_grad():\n",
    "        for batch in tqdm(loader, desc=\"Evaluating perplexity\", unit=\"batch\"):\n",
    "            input_ids = batch[\"input_ids\"].to(device)\n",
    "            attention_mask = batch[\"attention_mask\"].to(device)\n",
    "\n",
    "            outputs = model(input_ids, attention_mask=attention_mask)\n",
    "\n",
    "            if hasattr(outputs, 'logits'):\n",
    "                logits = outputs.logits\n",
    "            else:\n",
    "                logits = outputs\n",
    "\n",
    "            loss = torch.nn.functional.cross_entropy(\n",
    "                logits.view(-1, tokenizer.vocab_size),\n",
    "                input_ids.view(-1),\n",
    "                ignore_index=tokenizer.pad_token_id,\n",
    "                reduction='sum'\n",
    "            )\n",
    "\n",
    "            non_pad_tokens = (input_ids != tokenizer.pad_token_id).sum().item()\n",
    "            total_loss += loss.item()\n",
    "            total_tokens += non_pad_tokens\n",
    "\n",
    "    return torch.exp(torch.tensor(total_loss / total_tokens)).item()\n",
    "original_model = BertForMaskedLM.from_pretrained(\"bert-base-german-cased\")\n",
    "\n",
    "n_samples = 10000\n",
    "\n",
    "base_texts = val_base['base_sent'].tolist()[:n_samples]\n",
    "poly_texts = val_modified['polypersonal_sent'].tolist()[:n_samples]\n",
    "\n",
    "base_dataset = MLMDataset(base_texts)\n",
    "poly_dataset = MLMDataset(poly_texts)\n",
    "\n",
    "base_loader = DataLoader(base_dataset, batch_size=8, shuffle=False)\n",
    "poly_loader = DataLoader(poly_dataset, batch_size=8, shuffle=False)\n",
    "\n",
    "print(\"Оригинальная модель:\")\n",
    "orig_base_ppl = evaluate_perplexity(original_model, base_loader, device)\n",
    "orig_poly_ppl = evaluate_perplexity(original_model, poly_loader, device)\n",
    "\n",
    "print(\"\\nНаша модель:\")\n",
    "your_base_ppl = evaluate_perplexity(model, base_loader, device)\n",
    "your_poly_ppl = evaluate_perplexity(model, poly_loader, device)"
   ]
  },
  {
   "cell_type": "code",
   "execution_count": 16,
   "id": "5hZpy6Jt7ymN",
   "metadata": {
    "colab": {
     "base_uri": "https://localhost:8080/"
    },
    "id": "5hZpy6Jt7ymN",
    "outputId": "7964d4a9-a027-44dd-e049-084c299bb97f"
   },
   "outputs": [
    {
     "name": "stdout",
     "output_type": "stream",
     "text": [
      "model                | Base PPL   | Poly PPL  \n",
      "---------------------------------------------\n",
      "fine-tuned           |       5.86 |       5.29\n",
      "base                 |      35.56 |      30.90\n"
     ]
    }
   ],
   "source": [
    "print(f\"{'model':<20} | {'Base PPL':<10} | {'Poly PPL':<10}\")\n",
    "print(\"-\"*45)\n",
    "print(f\"{'fine-tuned':<20} | {your_base_ppl:>10.2f} | {your_poly_ppl:>10.2f}\")\n",
    "print(f\"{'base':<20} | {orig_base_ppl:>10.2f} | {orig_poly_ppl:>10.2f}\")"
   ]
  },
  {
   "cell_type": "markdown",
   "id": "MAp2LJpiNiGO",
   "metadata": {
    "id": "MAp2LJpiNiGO"
   },
   "source": [
    "### With Flag"
   ]
  },
  {
   "cell_type": "code",
   "execution_count": 19,
   "id": "DlXITOL3rv8n",
   "metadata": {
    "id": "DlXITOL3rv8n"
   },
   "outputs": [],
   "source": [
    "train_base, _ = train_test_split(\n",
    "    base_df,\n",
    "    test_size=25000,\n",
    "    random_state=42\n",
    ")\n",
    "\n",
    "train_data_with_flag = {\n",
    "    'text': train_modified['polypersonal_sent'].tolist()[:25000] + train_base['base_sent'].tolist()[:25000],\n",
    "    'flag': [1] * 25000 + [0] * 25000\n",
    "}\n",
    "\n",
    "val_data_with_flag = {\n",
    "    'text': val_modified['polypersonal_sent'].tolist()[:6000] + val_base['base_sent'].tolist()[:6000],\n",
    "    'flag': [1] * 6000 + [0] * 6000\n",
    "}"
   ]
  },
  {
   "cell_type": "code",
   "execution_count": 21,
   "id": "n65sO-SbNkfP",
   "metadata": {
    "id": "n65sO-SbNkfP"
   },
   "outputs": [],
   "source": [
    "class MLMWithFlagDataset(Dataset):\n",
    "    def __init__(self, texts, flags, tokenizer, mlm_probability=0.15):\n",
    "        self.texts = texts\n",
    "        self.flags = flags\n",
    "        self.tokenizer = tokenizer\n",
    "        self.collator = DataCollatorForLanguageModeling(\n",
    "            tokenizer=tokenizer,\n",
    "            mlm=True,\n",
    "            mlm_probability=mlm_probability\n",
    "        )\n",
    "\n",
    "    def __len__(self):\n",
    "        return len(self.texts)\n",
    "\n",
    "    def __getitem__(self, idx):\n",
    "        encoding = self.tokenizer(\n",
    "            self.texts[idx],\n",
    "            padding=\"max_length\",\n",
    "            truncation=True,\n",
    "            max_length=128,\n",
    "            return_tensors=\"pt\"\n",
    "        )\n",
    "        return {\n",
    "            'input_ids': encoding['input_ids'].squeeze(),\n",
    "            'attention_mask': encoding['attention_mask'].squeeze(),\n",
    "            'flag': torch.tensor(self.flags[idx], dtype=torch.float)\n",
    "        }\n",
    "\n",
    "    def collate_fn(self, batch):\n",
    "        mlm_batch = self.collator([{'input_ids': item['input_ids']} for item in batch])\n",
    "        mlm_batch['attention_mask'] = torch.stack([item['attention_mask'] for item in batch])\n",
    "        mlm_batch['flag'] = torch.stack([item['flag'] for item in batch])\n",
    "\n",
    "        return mlm_batch\n",
    "\n",
    "class CustomBERTWithFlag(torch.nn.Module):\n",
    "    def __init__(self, base_model, hidden_size=768):\n",
    "        super().__init__()\n",
    "        self.bert = base_model.bert\n",
    "        self.flag_proj = torch.nn.Linear(1, hidden_size)\n",
    "        self.classifier = torch.nn.Linear(hidden_size, tokenizer.vocab_size)\n",
    "\n",
    "    def forward(self, input_ids, attention_mask, flag):\n",
    "        outputs = self.bert(input_ids, attention_mask=attention_mask)\n",
    "        sequence_output = outputs.last_hidden_state\n",
    "\n",
    "        flag_embed = self.flag_proj(flag.view(-1, 1, 1))\n",
    "        sequence_output = sequence_output + flag_embed\n",
    "\n",
    "        logits = self.classifier(sequence_output)\n",
    "        return logits"
   ]
  },
  {
   "cell_type": "code",
   "execution_count": 22,
   "id": "T7gvXB5vEcxB",
   "metadata": {
    "colab": {
     "base_uri": "https://localhost:8080/"
    },
    "id": "T7gvXB5vEcxB",
    "outputId": "9a593ae0-7069-4a97-a65b-a1acd8298994"
   },
   "outputs": [
    {
     "name": "stderr",
     "output_type": "stream",
     "text": [
      "Some weights of the model checkpoint at bert-base-german-cased were not used when initializing BertForMaskedLM: ['bert.pooler.dense.bias', 'bert.pooler.dense.weight', 'cls.seq_relationship.bias', 'cls.seq_relationship.weight']\n",
      "- This IS expected if you are initializing BertForMaskedLM from the checkpoint of a model trained on another task or with another architecture (e.g. initializing a BertForSequenceClassification model from a BertForPreTraining model).\n",
      "- This IS NOT expected if you are initializing BertForMaskedLM from the checkpoint of a model that you expect to be exactly identical (initializing a BertForSequenceClassification model from a BertForSequenceClassification model).\n"
     ]
    }
   ],
   "source": [
    "model_name = \"bert-base-german-cased\"\n",
    "tokenizer = BertTokenizer.from_pretrained(model_name)\n",
    "base_model = BertForMaskedLM.from_pretrained(model_name)"
   ]
  },
  {
   "cell_type": "code",
   "execution_count": 24,
   "id": "SojHZgeeNkhs",
   "metadata": {
    "id": "SojHZgeeNkhs"
   },
   "outputs": [],
   "source": [
    "train_dataset_with_flag = MLMWithFlagDataset(\n",
    "    texts=train_data_with_flag['text'],\n",
    "    flags=train_data_with_flag['flag'],\n",
    "    tokenizer=tokenizer\n",
    ")\n",
    "\n",
    "train_loader_with_flag = DataLoader(\n",
    "    train_dataset_with_flag,\n",
    "    batch_size=16,\n",
    "    shuffle=True,\n",
    "    collate_fn=train_dataset_with_flag.collate_fn\n",
    ")"
   ]
  },
  {
   "cell_type": "code",
   "execution_count": 25,
   "id": "-Evtq9YSPeJI",
   "metadata": {
    "id": "-Evtq9YSPeJI"
   },
   "outputs": [],
   "source": [
    "data_collator = DataCollatorForLanguageModeling(tokenizer, mlm_probability=0.15)"
   ]
  },
  {
   "cell_type": "code",
   "execution_count": 26,
   "id": "1cJH-2I3NkkE",
   "metadata": {
    "colab": {
     "base_uri": "https://localhost:8080/"
    },
    "id": "1cJH-2I3NkkE",
    "outputId": "3e2d4cf1-9359-49ca-cdf7-979f29d0a357"
   },
   "outputs": [
    {
     "metadata": {
      "tags": null
     },
     "name": "stderr",
     "output_type": "stream",
     "text": [
      "Epoch 1/5: 100%|██████████| 3125/3125 [22:19<00:00,  2.33it/s, avg_loss=5.84, elapsed=0:22:19, loss=5.96]\n"
     ]
    },
    {
     "metadata": {
      "tags": null
     },
     "name": "stdout",
     "output_type": "stream",
     "text": [
      "Epoch 1 completed | Avg Loss: 5.8428 | Time: 0:22:19.525534 | Total: 0:22:19.526061\n"
     ]
    },
    {
     "metadata": {
      "tags": null
     },
     "name": "stderr",
     "output_type": "stream",
     "text": [
      "Epoch 2/5: 100%|██████████| 3125/3125 [22:19<00:00,  2.33it/s, avg_loss=4.76, elapsed=0:44:39, loss=4.45]\n"
     ]
    },
    {
     "metadata": {
      "tags": null
     },
     "name": "stdout",
     "output_type": "stream",
     "text": [
      "Epoch 2 completed | Avg Loss: 4.7608 | Time: 0:22:19.639654 | Total: 0:44:39.165766\n"
     ]
    },
    {
     "metadata": {
      "tags": null
     },
     "name": "stderr",
     "output_type": "stream",
     "text": [
      "Epoch 3/5: 100%|██████████| 3125/3125 [22:19<00:00,  2.33it/s, avg_loss=4.27, elapsed=1:06:58, loss=4.92]\n"
     ]
    },
    {
     "metadata": {
      "tags": null
     },
     "name": "stdout",
     "output_type": "stream",
     "text": [
      "Epoch 3 completed | Avg Loss: 4.2739 | Time: 0:22:19.476818 | Total: 1:06:58.642630\n"
     ]
    },
    {
     "metadata": {
      "tags": null
     },
     "name": "stderr",
     "output_type": "stream",
     "text": [
      "Epoch 4/5: 100%|██████████| 3125/3125 [22:18<00:00,  2.33it/s, avg_loss=3.94, elapsed=1:29:17, loss=4.38]\n"
     ]
    },
    {
     "metadata": {
      "tags": null
     },
     "name": "stdout",
     "output_type": "stream",
     "text": [
      "Epoch 4 completed | Avg Loss: 3.9438 | Time: 0:22:18.731322 | Total: 1:29:17.374001\n"
     ]
    },
    {
     "name": "stderr",
     "output_type": "stream",
     "text": [
      "Epoch 5/5: 100%|██████████| 3125/3125 [22:20<00:00,  2.33it/s, avg_loss=3.7, elapsed=1:51:37, loss=3.13]"
     ]
    },
    {
     "name": "stdout",
     "output_type": "stream",
     "text": [
      "Epoch 5 completed | Avg Loss: 3.6988 | Time: 0:22:20.243589 | Total: 1:51:37.617637\n",
      "\n",
      "Training completed in 1:51:37.617991\n"
     ]
    },
    {
     "name": "stderr",
     "output_type": "stream",
     "text": [
      "\n"
     ]
    }
   ],
   "source": [
    "import time\n",
    "from tqdm import tqdm\n",
    "from datetime import timedelta\n",
    "\n",
    "optimizer = torch.optim.AdamW(model_with_flag.parameters(), lr=5e-5)\n",
    "\n",
    "total_epochs = 5\n",
    "start_time = time.time()\n",
    "\n",
    "for epoch in range(total_epochs):\n",
    "    epoch_start_time = time.time()\n",
    "    model_with_flag.train()\n",
    "    total_loss = 0\n",
    "\n",
    "\n",
    "    batch_progress = tqdm(\n",
    "        train_loader_with_flag,\n",
    "        desc=f\"Epoch {epoch + 1}/{total_epochs}\",\n",
    "        leave=True\n",
    "    )\n",
    "\n",
    "    for batch in batch_progress:\n",
    "        batch = {k: v.to(device) for k, v in batch.items()}\n",
    "\n",
    "        outputs = model_with_flag(\n",
    "            input_ids=batch['input_ids'],\n",
    "            attention_mask=batch['attention_mask'],\n",
    "            flag=batch['flag']\n",
    "        )\n",
    "\n",
    "        loss = torch.nn.functional.cross_entropy(\n",
    "            outputs.view(-1, tokenizer.vocab_size),\n",
    "            batch['labels'].view(-1),\n",
    "            ignore_index=-100\n",
    "        )\n",
    "\n",
    "        optimizer.zero_grad()\n",
    "        loss.backward()\n",
    "        optimizer.step()\n",
    "\n",
    "        total_loss += loss.item()\n",
    "\n",
    "\n",
    "        avg_loss_so_far = total_loss / (batch_progress.n + 1)\n",
    "        batch_progress.set_postfix(\n",
    "            loss=loss.item(),\n",
    "            avg_loss=avg_loss_so_far,\n",
    "            elapsed=str(timedelta(seconds=time.time() - start_time))[:-7]\n",
    "        )\n",
    "\n",
    "    avg_loss = total_loss / len(train_loader_with_flag)\n",
    "    epoch_time = time.time() - epoch_start_time\n",
    "\n",
    "\n",
    "    print(\n",
    "        f\"Epoch {epoch + 1} completed | \"\n",
    "        f\"Avg Loss: {avg_loss:.4f} | \"\n",
    "        f\"Time: {timedelta(seconds=epoch_time)} | \"\n",
    "        f\"Total: {timedelta(seconds=time.time() - start_time)}\"\n",
    "    )\n",
    "\n",
    "total_time = time.time() - start_time\n",
    "print(f\"\\nTraining completed in {timedelta(seconds=total_time)}\")\n"
   ]
  },
  {
   "cell_type": "code",
   "execution_count": 28,
   "id": "C7dEDaD-JkFI",
   "metadata": {
    "id": "C7dEDaD-JkFI"
   },
   "outputs": [],
   "source": [
    "val_data_with_flag_1 = {\n",
    "    'text': val_modified['polypersonal_sent'].tolist()[:5000] ,\n",
    "    'flag': [1] * 5000\n",
    "}\n",
    "\n",
    "val_data_with_flag_0 = {\n",
    "    'text': val_base['base_sent'].tolist()[:5000], # altered flag\n",
    "    'flag': [0] * 5000\n",
    "}"
   ]
  },
  {
   "cell_type": "code",
   "execution_count": 29,
   "id": "KRTzpO9PMrMl",
   "metadata": {
    "colab": {
     "base_uri": "https://localhost:8080/"
    },
    "id": "KRTzpO9PMrMl",
    "outputId": "c8497feb-fa57-42f2-d24d-e53237f83db2"
   },
   "outputs": [
    {
     "name": "stdout",
     "output_type": "stream",
     "text": [
      "Модель с флагами:\n"
     ]
    }
   ],
   "source": [
    "def evaluate_perplexity_with_flag(model, loader, device, is_poly):\n",
    "    model.eval()\n",
    "    total_loss = 0\n",
    "    total_tokens = 0\n",
    "\n",
    "    with torch.no_grad():\n",
    "        for batch in loader:\n",
    "            flag = torch.full((batch[\"input_ids\"].size(0),),\n",
    "                             is_poly,\n",
    "                             dtype=torch.float).to(device)\n",
    "\n",
    "            outputs = model(\n",
    "                batch[\"input_ids\"].to(device),\n",
    "                batch[\"attention_mask\"].to(device),\n",
    "                flag\n",
    "            )\n",
    "\n",
    "            loss = torch.nn.functional.cross_entropy(\n",
    "                outputs.view(-1, tokenizer.vocab_size),\n",
    "                batch[\"input_ids\"].to(device).view(-1),\n",
    "                ignore_index=tokenizer.pad_token_id,\n",
    "                reduction='sum'\n",
    "            )\n",
    "\n",
    "            non_pad = (batch[\"input_ids\"] != tokenizer.pad_token_id).sum().item()\n",
    "            total_loss += loss.item()\n",
    "            total_tokens += non_pad\n",
    "\n",
    "    return torch.exp(torch.tensor(total_loss / total_tokens)).item()\n",
    "\n",
    "val_dataset_with_flag_0 = MLMWithFlagDataset(\n",
    "    texts=val_data_with_flag_0['text'],\n",
    "    flags=val_data_with_flag_0['flag'],\n",
    "    tokenizer=tokenizer\n",
    ")\n",
    "val_loader_with_flag_0 = DataLoader(\n",
    "    val_dataset_with_flag_0,\n",
    "    batch_size=8,\n",
    "    collate_fn=val_dataset_with_flag_0.collate_fn\n",
    ")\n",
    "\n",
    "val_dataset_with_flag_1 = MLMWithFlagDataset(\n",
    "    texts=val_data_with_flag_1['text'],\n",
    "    flags=val_data_with_flag_1['flag'],\n",
    "    tokenizer=tokenizer\n",
    ")\n",
    "val_loader_with_flag_1 = DataLoader(\n",
    "    val_dataset_with_flag_1,\n",
    "    batch_size=8,\n",
    "    collate_fn=val_dataset_with_flag_0.collate_fn\n",
    ")\n",
    "\n",
    "print(\"Модель с флагами:\")\n",
    "base_ppl = evaluate_perplexity_with_flag(model_with_flag, val_loader_with_flag_0, device, is_poly=False)\n",
    "poly_ppl = evaluate_perplexity_with_flag(model_with_flag, val_loader_with_flag_1, device, is_poly=True)"
   ]
  },
  {
   "cell_type": "code",
   "execution_count": 30,
   "id": "Cf8zWCqWOEDw",
   "metadata": {
    "colab": {
     "base_uri": "https://localhost:8080/"
    },
    "id": "Cf8zWCqWOEDw",
    "outputId": "0dc2505b-052a-43af-b2af-40b8a7702944"
   },
   "outputs": [
    {
     "name": "stdout",
     "output_type": "stream",
     "text": [
      "350.6969299316406\n",
      "272.5133056640625\n"
     ]
    }
   ],
   "source": [
    "print(base_ppl)\n",
    "print(poly_ppl)"
   ]
  },
  {
   "cell_type": "code",
   "execution_count": null,
   "id": "a537149d",
   "metadata": {},
   "outputs": [],
   "source": [
    "base_ppl_rev = evaluate_perplexity_with_flag(model_with_flag, val_loader_with_flag_0, device, is_poly=True)\n",
    "poly_ppl_rev = evaluate_perplexity_with_flag(model_with_flag, val_loader_with_flag_1, device, is_poly=False)"
   ]
  },
  {
   "cell_type": "code",
   "execution_count": 32,
   "id": "Xejjo7TQOWpY",
   "metadata": {
    "colab": {
     "base_uri": "https://localhost:8080/"
    },
    "id": "Xejjo7TQOWpY",
    "outputId": "b82f28b7-02ea-4a22-e757-747f80b4ea57"
   },
   "outputs": [
    {
     "name": "stdout",
     "output_type": "stream",
     "text": [
      "590.1317749023438\n",
      "183.89605712890625\n"
     ]
    }
   ],
   "source": [
    "print(base_ppl_rev)\n",
    "print(poly_ppl_rev)"
   ]
  }
 ],
 "metadata": {
  "accelerator": "GPU",
  "colab": {
   "gpuType": "T4",
   "provenance": []
  },
  "kernelspec": {
   "display_name": "Python 3 (ipykernel)",
   "language": "python",
   "name": "python3"
  },
  "language_info": {
   "codemirror_mode": {
    "name": "ipython",
    "version": 3
   },
   "file_extension": ".py",
   "mimetype": "text/x-python",
   "name": "python",
   "nbconvert_exporter": "python",
   "pygments_lexer": "ipython3",
   "version": "3.9.12"
  },
  "widgets": {
   "application/vnd.jupyter.widget-state+json": {
    "005713992b014b1ba20807344995b900": {
     "model_module": "@jupyter-widgets/controls",
     "model_module_version": "1.5.0",
     "model_name": "HTMLModel",
     "state": {
      "_dom_classes": [],
      "_model_module": "@jupyter-widgets/controls",
      "_model_module_version": "1.5.0",
      "_model_name": "HTMLModel",
      "_view_count": null,
      "_view_module": "@jupyter-widgets/controls",
      "_view_module_version": "1.5.0",
      "_view_name": "HTMLView",
      "description": "",
      "description_tooltip": null,
      "layout": "IPY_MODEL_e6b06fbb1c05488bb7d9c385daf55e63",
      "placeholder": "​",
      "style": "IPY_MODEL_cafa7bdde2cf4eddb4638dde9edada1c",
      "value": "model.safetensors: 100%"
     }
    },
    "016dc6803f6c4433ac1c4f02edf15eaf": {
     "model_module": "@jupyter-widgets/controls",
     "model_module_version": "1.5.0",
     "model_name": "DescriptionStyleModel",
     "state": {
      "_model_module": "@jupyter-widgets/controls",
      "_model_module_version": "1.5.0",
      "_model_name": "DescriptionStyleModel",
      "_view_count": null,
      "_view_module": "@jupyter-widgets/base",
      "_view_module_version": "1.2.0",
      "_view_name": "StyleView",
      "description_width": ""
     }
    },
    "08be1ac16a7946c19ef5d9c30a388179": {
     "model_module": "@jupyter-widgets/controls",
     "model_module_version": "1.5.0",
     "model_name": "HTMLModel",
     "state": {
      "_dom_classes": [],
      "_model_module": "@jupyter-widgets/controls",
      "_model_module_version": "1.5.0",
      "_model_name": "HTMLModel",
      "_view_count": null,
      "_view_module": "@jupyter-widgets/controls",
      "_view_module_version": "1.5.0",
      "_view_name": "HTMLView",
      "description": "",
      "description_tooltip": null,
      "layout": "IPY_MODEL_1a23981f2f874082b2601f8fe4c1de93",
      "placeholder": "​",
      "style": "IPY_MODEL_cf8ba464be2746a28b8ee2488804a8e5",
      "value": " 439M/439M [00:06&lt;00:00, 68.3MB/s]"
     }
    },
    "0b8a2fc5799e4acfa8f5607ac760880d": {
     "model_module": "@jupyter-widgets/controls",
     "model_module_version": "1.5.0",
     "model_name": "HBoxModel",
     "state": {
      "_dom_classes": [],
      "_model_module": "@jupyter-widgets/controls",
      "_model_module_version": "1.5.0",
      "_model_name": "HBoxModel",
      "_view_count": null,
      "_view_module": "@jupyter-widgets/controls",
      "_view_module_version": "1.5.0",
      "_view_name": "HBoxView",
      "box_style": "",
      "children": [
       "IPY_MODEL_fa04d598e9cf4d9895ded867ce9dc041",
       "IPY_MODEL_decff6a632504ef4874f8cb20baf2db5",
       "IPY_MODEL_e8c9b17e9a154c1bb9fff68d34eb7610"
      ],
      "layout": "IPY_MODEL_48f89bc5692d4e128cabe23bd810501c"
     }
    },
    "0f9cbbe918a345b7b67a8b69a9c4d23e": {
     "model_module": "@jupyter-widgets/controls",
     "model_module_version": "1.5.0",
     "model_name": "FloatProgressModel",
     "state": {
      "_dom_classes": [],
      "_model_module": "@jupyter-widgets/controls",
      "_model_module_version": "1.5.0",
      "_model_name": "FloatProgressModel",
      "_view_count": null,
      "_view_module": "@jupyter-widgets/controls",
      "_view_module_version": "1.5.0",
      "_view_name": "ProgressView",
      "bar_style": "success",
      "description": "",
      "description_tooltip": null,
      "layout": "IPY_MODEL_91928e1c61a448549ed206ef31798058",
      "max": 49,
      "min": 0,
      "orientation": "horizontal",
      "style": "IPY_MODEL_c56d8f49140f4ead9498d0b73f519ddb",
      "value": 49
     }
    },
    "1a23981f2f874082b2601f8fe4c1de93": {
     "model_module": "@jupyter-widgets/base",
     "model_module_version": "1.2.0",
     "model_name": "LayoutModel",
     "state": {
      "_model_module": "@jupyter-widgets/base",
      "_model_module_version": "1.2.0",
      "_model_name": "LayoutModel",
      "_view_count": null,
      "_view_module": "@jupyter-widgets/base",
      "_view_module_version": "1.2.0",
      "_view_name": "LayoutView",
      "align_content": null,
      "align_items": null,
      "align_self": null,
      "border": null,
      "bottom": null,
      "display": null,
      "flex": null,
      "flex_flow": null,
      "grid_area": null,
      "grid_auto_columns": null,
      "grid_auto_flow": null,
      "grid_auto_rows": null,
      "grid_column": null,
      "grid_gap": null,
      "grid_row": null,
      "grid_template_areas": null,
      "grid_template_columns": null,
      "grid_template_rows": null,
      "height": null,
      "justify_content": null,
      "justify_items": null,
      "left": null,
      "margin": null,
      "max_height": null,
      "max_width": null,
      "min_height": null,
      "min_width": null,
      "object_fit": null,
      "object_position": null,
      "order": null,
      "overflow": null,
      "overflow_x": null,
      "overflow_y": null,
      "padding": null,
      "right": null,
      "top": null,
      "visibility": null,
      "width": null
     }
    },
    "1c12e971e2a94365ba48426904a5b9a9": {
     "model_module": "@jupyter-widgets/controls",
     "model_module_version": "1.5.0",
     "model_name": "HTMLModel",
     "state": {
      "_dom_classes": [],
      "_model_module": "@jupyter-widgets/controls",
      "_model_module_version": "1.5.0",
      "_model_name": "HTMLModel",
      "_view_count": null,
      "_view_module": "@jupyter-widgets/controls",
      "_view_module_version": "1.5.0",
      "_view_name": "HTMLView",
      "description": "",
      "description_tooltip": null,
      "layout": "IPY_MODEL_887ee4d7755d4544ae68e51a9a11740d",
      "placeholder": "​",
      "style": "IPY_MODEL_016dc6803f6c4433ac1c4f02edf15eaf",
      "value": "config.json: 100%"
     }
    },
    "2117378f8534466baa392c7893426836": {
     "model_module": "@jupyter-widgets/controls",
     "model_module_version": "1.5.0",
     "model_name": "HTMLModel",
     "state": {
      "_dom_classes": [],
      "_model_module": "@jupyter-widgets/controls",
      "_model_module_version": "1.5.0",
      "_model_name": "HTMLModel",
      "_view_count": null,
      "_view_module": "@jupyter-widgets/controls",
      "_view_module_version": "1.5.0",
      "_view_name": "HTMLView",
      "description": "",
      "description_tooltip": null,
      "layout": "IPY_MODEL_5bffb773860746b4a0ab49aa61c7c841",
      "placeholder": "​",
      "style": "IPY_MODEL_765b1c1f5fce42358983eea99e4c389e",
      "value": "tokenizer.json: 100%"
     }
    },
    "23d81753dcaf4204b237c255f6657dbc": {
     "model_module": "@jupyter-widgets/controls",
     "model_module_version": "1.5.0",
     "model_name": "FloatProgressModel",
     "state": {
      "_dom_classes": [],
      "_model_module": "@jupyter-widgets/controls",
      "_model_module_version": "1.5.0",
      "_model_name": "FloatProgressModel",
      "_view_count": null,
      "_view_module": "@jupyter-widgets/controls",
      "_view_module_version": "1.5.0",
      "_view_name": "ProgressView",
      "bar_style": "success",
      "description": "",
      "description_tooltip": null,
      "layout": "IPY_MODEL_4be03d8a49f044db8d51c2f82c98faf8",
      "max": 438844124,
      "min": 0,
      "orientation": "horizontal",
      "style": "IPY_MODEL_85b983cc69d24cf9b72bad77e3ebc052",
      "value": 438844124
     }
    },
    "2ac3f5e76a804675ac17c62c9bde451c": {
     "model_module": "@jupyter-widgets/base",
     "model_module_version": "1.2.0",
     "model_name": "LayoutModel",
     "state": {
      "_model_module": "@jupyter-widgets/base",
      "_model_module_version": "1.2.0",
      "_model_name": "LayoutModel",
      "_view_count": null,
      "_view_module": "@jupyter-widgets/base",
      "_view_module_version": "1.2.0",
      "_view_name": "LayoutView",
      "align_content": null,
      "align_items": null,
      "align_self": null,
      "border": null,
      "bottom": null,
      "display": null,
      "flex": null,
      "flex_flow": null,
      "grid_area": null,
      "grid_auto_columns": null,
      "grid_auto_flow": null,
      "grid_auto_rows": null,
      "grid_column": null,
      "grid_gap": null,
      "grid_row": null,
      "grid_template_areas": null,
      "grid_template_columns": null,
      "grid_template_rows": null,
      "height": null,
      "justify_content": null,
      "justify_items": null,
      "left": null,
      "margin": null,
      "max_height": null,
      "max_width": null,
      "min_height": null,
      "min_width": null,
      "object_fit": null,
      "object_position": null,
      "order": null,
      "overflow": null,
      "overflow_x": null,
      "overflow_y": null,
      "padding": null,
      "right": null,
      "top": null,
      "visibility": null,
      "width": null
     }
    },
    "344c5e58ff8f47a894100e890dc79ea9": {
     "model_module": "@jupyter-widgets/controls",
     "model_module_version": "1.5.0",
     "model_name": "FloatProgressModel",
     "state": {
      "_dom_classes": [],
      "_model_module": "@jupyter-widgets/controls",
      "_model_module_version": "1.5.0",
      "_model_name": "FloatProgressModel",
      "_view_count": null,
      "_view_module": "@jupyter-widgets/controls",
      "_view_module_version": "1.5.0",
      "_view_name": "ProgressView",
      "bar_style": "success",
      "description": "",
      "description_tooltip": null,
      "layout": "IPY_MODEL_fb0302acaabc4842adba213a14a1ccb4",
      "max": 485115,
      "min": 0,
      "orientation": "horizontal",
      "style": "IPY_MODEL_3861c079e3d44695a670116d0762f288",
      "value": 485115
     }
    },
    "3861c079e3d44695a670116d0762f288": {
     "model_module": "@jupyter-widgets/controls",
     "model_module_version": "1.5.0",
     "model_name": "ProgressStyleModel",
     "state": {
      "_model_module": "@jupyter-widgets/controls",
      "_model_module_version": "1.5.0",
      "_model_name": "ProgressStyleModel",
      "_view_count": null,
      "_view_module": "@jupyter-widgets/base",
      "_view_module_version": "1.2.0",
      "_view_name": "StyleView",
      "bar_color": null,
      "description_width": ""
     }
    },
    "38732b31d1ae430bb1fea66e2a469d35": {
     "model_module": "@jupyter-widgets/controls",
     "model_module_version": "1.5.0",
     "model_name": "DescriptionStyleModel",
     "state": {
      "_model_module": "@jupyter-widgets/controls",
      "_model_module_version": "1.5.0",
      "_model_name": "DescriptionStyleModel",
      "_view_count": null,
      "_view_module": "@jupyter-widgets/base",
      "_view_module_version": "1.2.0",
      "_view_name": "StyleView",
      "description_width": ""
     }
    },
    "3bcc5ab33baa4c1a8f5398630a10e644": {
     "model_module": "@jupyter-widgets/base",
     "model_module_version": "1.2.0",
     "model_name": "LayoutModel",
     "state": {
      "_model_module": "@jupyter-widgets/base",
      "_model_module_version": "1.2.0",
      "_model_name": "LayoutModel",
      "_view_count": null,
      "_view_module": "@jupyter-widgets/base",
      "_view_module_version": "1.2.0",
      "_view_name": "LayoutView",
      "align_content": null,
      "align_items": null,
      "align_self": null,
      "border": null,
      "bottom": null,
      "display": null,
      "flex": null,
      "flex_flow": null,
      "grid_area": null,
      "grid_auto_columns": null,
      "grid_auto_flow": null,
      "grid_auto_rows": null,
      "grid_column": null,
      "grid_gap": null,
      "grid_row": null,
      "grid_template_areas": null,
      "grid_template_columns": null,
      "grid_template_rows": null,
      "height": null,
      "justify_content": null,
      "justify_items": null,
      "left": null,
      "margin": null,
      "max_height": null,
      "max_width": null,
      "min_height": null,
      "min_width": null,
      "object_fit": null,
      "object_position": null,
      "order": null,
      "overflow": null,
      "overflow_x": null,
      "overflow_y": null,
      "padding": null,
      "right": null,
      "top": null,
      "visibility": null,
      "width": null
     }
    },
    "3bd4d30ccb614d51aa843926ab5cfdfb": {
     "model_module": "@jupyter-widgets/base",
     "model_module_version": "1.2.0",
     "model_name": "LayoutModel",
     "state": {
      "_model_module": "@jupyter-widgets/base",
      "_model_module_version": "1.2.0",
      "_model_name": "LayoutModel",
      "_view_count": null,
      "_view_module": "@jupyter-widgets/base",
      "_view_module_version": "1.2.0",
      "_view_name": "LayoutView",
      "align_content": null,
      "align_items": null,
      "align_self": null,
      "border": null,
      "bottom": null,
      "display": null,
      "flex": null,
      "flex_flow": null,
      "grid_area": null,
      "grid_auto_columns": null,
      "grid_auto_flow": null,
      "grid_auto_rows": null,
      "grid_column": null,
      "grid_gap": null,
      "grid_row": null,
      "grid_template_areas": null,
      "grid_template_columns": null,
      "grid_template_rows": null,
      "height": null,
      "justify_content": null,
      "justify_items": null,
      "left": null,
      "margin": null,
      "max_height": null,
      "max_width": null,
      "min_height": null,
      "min_width": null,
      "object_fit": null,
      "object_position": null,
      "order": null,
      "overflow": null,
      "overflow_x": null,
      "overflow_y": null,
      "padding": null,
      "right": null,
      "top": null,
      "visibility": null,
      "width": null
     }
    },
    "435cb951a3ad4dba94aa310bc21cfe40": {
     "model_module": "@jupyter-widgets/base",
     "model_module_version": "1.2.0",
     "model_name": "LayoutModel",
     "state": {
      "_model_module": "@jupyter-widgets/base",
      "_model_module_version": "1.2.0",
      "_model_name": "LayoutModel",
      "_view_count": null,
      "_view_module": "@jupyter-widgets/base",
      "_view_module_version": "1.2.0",
      "_view_name": "LayoutView",
      "align_content": null,
      "align_items": null,
      "align_self": null,
      "border": null,
      "bottom": null,
      "display": null,
      "flex": null,
      "flex_flow": null,
      "grid_area": null,
      "grid_auto_columns": null,
      "grid_auto_flow": null,
      "grid_auto_rows": null,
      "grid_column": null,
      "grid_gap": null,
      "grid_row": null,
      "grid_template_areas": null,
      "grid_template_columns": null,
      "grid_template_rows": null,
      "height": null,
      "justify_content": null,
      "justify_items": null,
      "left": null,
      "margin": null,
      "max_height": null,
      "max_width": null,
      "min_height": null,
      "min_width": null,
      "object_fit": null,
      "object_position": null,
      "order": null,
      "overflow": null,
      "overflow_x": null,
      "overflow_y": null,
      "padding": null,
      "right": null,
      "top": null,
      "visibility": null,
      "width": null
     }
    },
    "48f89bc5692d4e128cabe23bd810501c": {
     "model_module": "@jupyter-widgets/base",
     "model_module_version": "1.2.0",
     "model_name": "LayoutModel",
     "state": {
      "_model_module": "@jupyter-widgets/base",
      "_model_module_version": "1.2.0",
      "_model_name": "LayoutModel",
      "_view_count": null,
      "_view_module": "@jupyter-widgets/base",
      "_view_module_version": "1.2.0",
      "_view_name": "LayoutView",
      "align_content": null,
      "align_items": null,
      "align_self": null,
      "border": null,
      "bottom": null,
      "display": null,
      "flex": null,
      "flex_flow": null,
      "grid_area": null,
      "grid_auto_columns": null,
      "grid_auto_flow": null,
      "grid_auto_rows": null,
      "grid_column": null,
      "grid_gap": null,
      "grid_row": null,
      "grid_template_areas": null,
      "grid_template_columns": null,
      "grid_template_rows": null,
      "height": null,
      "justify_content": null,
      "justify_items": null,
      "left": null,
      "margin": null,
      "max_height": null,
      "max_width": null,
      "min_height": null,
      "min_width": null,
      "object_fit": null,
      "object_position": null,
      "order": null,
      "overflow": null,
      "overflow_x": null,
      "overflow_y": null,
      "padding": null,
      "right": null,
      "top": null,
      "visibility": null,
      "width": null
     }
    },
    "4be03d8a49f044db8d51c2f82c98faf8": {
     "model_module": "@jupyter-widgets/base",
     "model_module_version": "1.2.0",
     "model_name": "LayoutModel",
     "state": {
      "_model_module": "@jupyter-widgets/base",
      "_model_module_version": "1.2.0",
      "_model_name": "LayoutModel",
      "_view_count": null,
      "_view_module": "@jupyter-widgets/base",
      "_view_module_version": "1.2.0",
      "_view_name": "LayoutView",
      "align_content": null,
      "align_items": null,
      "align_self": null,
      "border": null,
      "bottom": null,
      "display": null,
      "flex": null,
      "flex_flow": null,
      "grid_area": null,
      "grid_auto_columns": null,
      "grid_auto_flow": null,
      "grid_auto_rows": null,
      "grid_column": null,
      "grid_gap": null,
      "grid_row": null,
      "grid_template_areas": null,
      "grid_template_columns": null,
      "grid_template_rows": null,
      "height": null,
      "justify_content": null,
      "justify_items": null,
      "left": null,
      "margin": null,
      "max_height": null,
      "max_width": null,
      "min_height": null,
      "min_width": null,
      "object_fit": null,
      "object_position": null,
      "order": null,
      "overflow": null,
      "overflow_x": null,
      "overflow_y": null,
      "padding": null,
      "right": null,
      "top": null,
      "visibility": null,
      "width": null
     }
    },
    "5355876f4df44a609ccc15738c04e3df": {
     "model_module": "@jupyter-widgets/controls",
     "model_module_version": "1.5.0",
     "model_name": "HTMLModel",
     "state": {
      "_dom_classes": [],
      "_model_module": "@jupyter-widgets/controls",
      "_model_module_version": "1.5.0",
      "_model_name": "HTMLModel",
      "_view_count": null,
      "_view_module": "@jupyter-widgets/controls",
      "_view_module_version": "1.5.0",
      "_view_name": "HTMLView",
      "description": "",
      "description_tooltip": null,
      "layout": "IPY_MODEL_2ac3f5e76a804675ac17c62c9bde451c",
      "placeholder": "​",
      "style": "IPY_MODEL_5ea00c934e9a4bba96a27c8e1637659a",
      "value": " 433/433 [00:00&lt;00:00, 43.0kB/s]"
     }
    },
    "58164b8106fb4339b56cd5055e4053e5": {
     "model_module": "@jupyter-widgets/controls",
     "model_module_version": "1.5.0",
     "model_name": "FloatProgressModel",
     "state": {
      "_dom_classes": [],
      "_model_module": "@jupyter-widgets/controls",
      "_model_module_version": "1.5.0",
      "_model_name": "FloatProgressModel",
      "_view_count": null,
      "_view_module": "@jupyter-widgets/controls",
      "_view_module_version": "1.5.0",
      "_view_name": "ProgressView",
      "bar_style": "success",
      "description": "",
      "description_tooltip": null,
      "layout": "IPY_MODEL_ae73db69e5364e9190a0d7a5f8510281",
      "max": 433,
      "min": 0,
      "orientation": "horizontal",
      "style": "IPY_MODEL_bdfe4d524902488ab533555b8380a211",
      "value": 433
     }
    },
    "58d633431eec465a9da929b508b3a3eb": {
     "model_module": "@jupyter-widgets/controls",
     "model_module_version": "1.5.0",
     "model_name": "DescriptionStyleModel",
     "state": {
      "_model_module": "@jupyter-widgets/controls",
      "_model_module_version": "1.5.0",
      "_model_name": "DescriptionStyleModel",
      "_view_count": null,
      "_view_module": "@jupyter-widgets/base",
      "_view_module_version": "1.2.0",
      "_view_name": "StyleView",
      "description_width": ""
     }
    },
    "5bffb773860746b4a0ab49aa61c7c841": {
     "model_module": "@jupyter-widgets/base",
     "model_module_version": "1.2.0",
     "model_name": "LayoutModel",
     "state": {
      "_model_module": "@jupyter-widgets/base",
      "_model_module_version": "1.2.0",
      "_model_name": "LayoutModel",
      "_view_count": null,
      "_view_module": "@jupyter-widgets/base",
      "_view_module_version": "1.2.0",
      "_view_name": "LayoutView",
      "align_content": null,
      "align_items": null,
      "align_self": null,
      "border": null,
      "bottom": null,
      "display": null,
      "flex": null,
      "flex_flow": null,
      "grid_area": null,
      "grid_auto_columns": null,
      "grid_auto_flow": null,
      "grid_auto_rows": null,
      "grid_column": null,
      "grid_gap": null,
      "grid_row": null,
      "grid_template_areas": null,
      "grid_template_columns": null,
      "grid_template_rows": null,
      "height": null,
      "justify_content": null,
      "justify_items": null,
      "left": null,
      "margin": null,
      "max_height": null,
      "max_width": null,
      "min_height": null,
      "min_width": null,
      "object_fit": null,
      "object_position": null,
      "order": null,
      "overflow": null,
      "overflow_x": null,
      "overflow_y": null,
      "padding": null,
      "right": null,
      "top": null,
      "visibility": null,
      "width": null
     }
    },
    "5ea00c934e9a4bba96a27c8e1637659a": {
     "model_module": "@jupyter-widgets/controls",
     "model_module_version": "1.5.0",
     "model_name": "DescriptionStyleModel",
     "state": {
      "_model_module": "@jupyter-widgets/controls",
      "_model_module_version": "1.5.0",
      "_model_name": "DescriptionStyleModel",
      "_view_count": null,
      "_view_module": "@jupyter-widgets/base",
      "_view_module_version": "1.2.0",
      "_view_name": "StyleView",
      "description_width": ""
     }
    },
    "630aede87cdf406799e1a7350ae1bdf6": {
     "model_module": "@jupyter-widgets/base",
     "model_module_version": "1.2.0",
     "model_name": "LayoutModel",
     "state": {
      "_model_module": "@jupyter-widgets/base",
      "_model_module_version": "1.2.0",
      "_model_name": "LayoutModel",
      "_view_count": null,
      "_view_module": "@jupyter-widgets/base",
      "_view_module_version": "1.2.0",
      "_view_name": "LayoutView",
      "align_content": null,
      "align_items": null,
      "align_self": null,
      "border": null,
      "bottom": null,
      "display": null,
      "flex": null,
      "flex_flow": null,
      "grid_area": null,
      "grid_auto_columns": null,
      "grid_auto_flow": null,
      "grid_auto_rows": null,
      "grid_column": null,
      "grid_gap": null,
      "grid_row": null,
      "grid_template_areas": null,
      "grid_template_columns": null,
      "grid_template_rows": null,
      "height": null,
      "justify_content": null,
      "justify_items": null,
      "left": null,
      "margin": null,
      "max_height": null,
      "max_width": null,
      "min_height": null,
      "min_width": null,
      "object_fit": null,
      "object_position": null,
      "order": null,
      "overflow": null,
      "overflow_x": null,
      "overflow_y": null,
      "padding": null,
      "right": null,
      "top": null,
      "visibility": null,
      "width": null
     }
    },
    "6bb5c87a097340cbb6cdac08714a3f72": {
     "model_module": "@jupyter-widgets/base",
     "model_module_version": "1.2.0",
     "model_name": "LayoutModel",
     "state": {
      "_model_module": "@jupyter-widgets/base",
      "_model_module_version": "1.2.0",
      "_model_name": "LayoutModel",
      "_view_count": null,
      "_view_module": "@jupyter-widgets/base",
      "_view_module_version": "1.2.0",
      "_view_name": "LayoutView",
      "align_content": null,
      "align_items": null,
      "align_self": null,
      "border": null,
      "bottom": null,
      "display": null,
      "flex": null,
      "flex_flow": null,
      "grid_area": null,
      "grid_auto_columns": null,
      "grid_auto_flow": null,
      "grid_auto_rows": null,
      "grid_column": null,
      "grid_gap": null,
      "grid_row": null,
      "grid_template_areas": null,
      "grid_template_columns": null,
      "grid_template_rows": null,
      "height": null,
      "justify_content": null,
      "justify_items": null,
      "left": null,
      "margin": null,
      "max_height": null,
      "max_width": null,
      "min_height": null,
      "min_width": null,
      "object_fit": null,
      "object_position": null,
      "order": null,
      "overflow": null,
      "overflow_x": null,
      "overflow_y": null,
      "padding": null,
      "right": null,
      "top": null,
      "visibility": null,
      "width": null
     }
    },
    "6fcfa564d01e477aaa7492743e5d137e": {
     "model_module": "@jupyter-widgets/controls",
     "model_module_version": "1.5.0",
     "model_name": "DescriptionStyleModel",
     "state": {
      "_model_module": "@jupyter-widgets/controls",
      "_model_module_version": "1.5.0",
      "_model_name": "DescriptionStyleModel",
      "_view_count": null,
      "_view_module": "@jupyter-widgets/base",
      "_view_module_version": "1.2.0",
      "_view_name": "StyleView",
      "description_width": ""
     }
    },
    "70e62c3b70e346a3af9f0458023edf28": {
     "model_module": "@jupyter-widgets/base",
     "model_module_version": "1.2.0",
     "model_name": "LayoutModel",
     "state": {
      "_model_module": "@jupyter-widgets/base",
      "_model_module_version": "1.2.0",
      "_model_name": "LayoutModel",
      "_view_count": null,
      "_view_module": "@jupyter-widgets/base",
      "_view_module_version": "1.2.0",
      "_view_name": "LayoutView",
      "align_content": null,
      "align_items": null,
      "align_self": null,
      "border": null,
      "bottom": null,
      "display": null,
      "flex": null,
      "flex_flow": null,
      "grid_area": null,
      "grid_auto_columns": null,
      "grid_auto_flow": null,
      "grid_auto_rows": null,
      "grid_column": null,
      "grid_gap": null,
      "grid_row": null,
      "grid_template_areas": null,
      "grid_template_columns": null,
      "grid_template_rows": null,
      "height": null,
      "justify_content": null,
      "justify_items": null,
      "left": null,
      "margin": null,
      "max_height": null,
      "max_width": null,
      "min_height": null,
      "min_width": null,
      "object_fit": null,
      "object_position": null,
      "order": null,
      "overflow": null,
      "overflow_x": null,
      "overflow_y": null,
      "padding": null,
      "right": null,
      "top": null,
      "visibility": null,
      "width": null
     }
    },
    "71e15e91ec56417e990c40c59e32dd73": {
     "model_module": "@jupyter-widgets/controls",
     "model_module_version": "1.5.0",
     "model_name": "HBoxModel",
     "state": {
      "_dom_classes": [],
      "_model_module": "@jupyter-widgets/controls",
      "_model_module_version": "1.5.0",
      "_model_name": "HBoxModel",
      "_view_count": null,
      "_view_module": "@jupyter-widgets/controls",
      "_view_module_version": "1.5.0",
      "_view_name": "HBoxView",
      "box_style": "",
      "children": [
       "IPY_MODEL_005713992b014b1ba20807344995b900",
       "IPY_MODEL_23d81753dcaf4204b237c255f6657dbc",
       "IPY_MODEL_08be1ac16a7946c19ef5d9c30a388179"
      ],
      "layout": "IPY_MODEL_996e1d0791e144de88ab32c45dbee756"
     }
    },
    "765b1c1f5fce42358983eea99e4c389e": {
     "model_module": "@jupyter-widgets/controls",
     "model_module_version": "1.5.0",
     "model_name": "DescriptionStyleModel",
     "state": {
      "_model_module": "@jupyter-widgets/controls",
      "_model_module_version": "1.5.0",
      "_model_name": "DescriptionStyleModel",
      "_view_count": null,
      "_view_module": "@jupyter-widgets/base",
      "_view_module_version": "1.2.0",
      "_view_name": "StyleView",
      "description_width": ""
     }
    },
    "7895749a30564b2485345587f8f847a9": {
     "model_module": "@jupyter-widgets/controls",
     "model_module_version": "1.5.0",
     "model_name": "HTMLModel",
     "state": {
      "_dom_classes": [],
      "_model_module": "@jupyter-widgets/controls",
      "_model_module_version": "1.5.0",
      "_model_name": "HTMLModel",
      "_view_count": null,
      "_view_module": "@jupyter-widgets/controls",
      "_view_module_version": "1.5.0",
      "_view_name": "HTMLView",
      "description": "",
      "description_tooltip": null,
      "layout": "IPY_MODEL_3bcc5ab33baa4c1a8f5398630a10e644",
      "placeholder": "​",
      "style": "IPY_MODEL_58d633431eec465a9da929b508b3a3eb",
      "value": " 485k/485k [00:00&lt;00:00, 1.10MB/s]"
     }
    },
    "808bafc7ec034fe0a85905a4166bd646": {
     "model_module": "@jupyter-widgets/controls",
     "model_module_version": "1.5.0",
     "model_name": "ProgressStyleModel",
     "state": {
      "_model_module": "@jupyter-widgets/controls",
      "_model_module_version": "1.5.0",
      "_model_name": "ProgressStyleModel",
      "_view_count": null,
      "_view_module": "@jupyter-widgets/base",
      "_view_module_version": "1.2.0",
      "_view_name": "StyleView",
      "bar_color": null,
      "description_width": ""
     }
    },
    "85b983cc69d24cf9b72bad77e3ebc052": {
     "model_module": "@jupyter-widgets/controls",
     "model_module_version": "1.5.0",
     "model_name": "ProgressStyleModel",
     "state": {
      "_model_module": "@jupyter-widgets/controls",
      "_model_module_version": "1.5.0",
      "_model_name": "ProgressStyleModel",
      "_view_count": null,
      "_view_module": "@jupyter-widgets/base",
      "_view_module_version": "1.2.0",
      "_view_name": "StyleView",
      "bar_color": null,
      "description_width": ""
     }
    },
    "887ee4d7755d4544ae68e51a9a11740d": {
     "model_module": "@jupyter-widgets/base",
     "model_module_version": "1.2.0",
     "model_name": "LayoutModel",
     "state": {
      "_model_module": "@jupyter-widgets/base",
      "_model_module_version": "1.2.0",
      "_model_name": "LayoutModel",
      "_view_count": null,
      "_view_module": "@jupyter-widgets/base",
      "_view_module_version": "1.2.0",
      "_view_name": "LayoutView",
      "align_content": null,
      "align_items": null,
      "align_self": null,
      "border": null,
      "bottom": null,
      "display": null,
      "flex": null,
      "flex_flow": null,
      "grid_area": null,
      "grid_auto_columns": null,
      "grid_auto_flow": null,
      "grid_auto_rows": null,
      "grid_column": null,
      "grid_gap": null,
      "grid_row": null,
      "grid_template_areas": null,
      "grid_template_columns": null,
      "grid_template_rows": null,
      "height": null,
      "justify_content": null,
      "justify_items": null,
      "left": null,
      "margin": null,
      "max_height": null,
      "max_width": null,
      "min_height": null,
      "min_width": null,
      "object_fit": null,
      "object_position": null,
      "order": null,
      "overflow": null,
      "overflow_x": null,
      "overflow_y": null,
      "padding": null,
      "right": null,
      "top": null,
      "visibility": null,
      "width": null
     }
    },
    "8d5ff19381d243afb7b6f5d6aa8fa8a1": {
     "model_module": "@jupyter-widgets/controls",
     "model_module_version": "1.5.0",
     "model_name": "DescriptionStyleModel",
     "state": {
      "_model_module": "@jupyter-widgets/controls",
      "_model_module_version": "1.5.0",
      "_model_name": "DescriptionStyleModel",
      "_view_count": null,
      "_view_module": "@jupyter-widgets/base",
      "_view_module_version": "1.2.0",
      "_view_name": "StyleView",
      "description_width": ""
     }
    },
    "8f8ffdf707a0461592df3a6e2eff06f5": {
     "model_module": "@jupyter-widgets/base",
     "model_module_version": "1.2.0",
     "model_name": "LayoutModel",
     "state": {
      "_model_module": "@jupyter-widgets/base",
      "_model_module_version": "1.2.0",
      "_model_name": "LayoutModel",
      "_view_count": null,
      "_view_module": "@jupyter-widgets/base",
      "_view_module_version": "1.2.0",
      "_view_name": "LayoutView",
      "align_content": null,
      "align_items": null,
      "align_self": null,
      "border": null,
      "bottom": null,
      "display": null,
      "flex": null,
      "flex_flow": null,
      "grid_area": null,
      "grid_auto_columns": null,
      "grid_auto_flow": null,
      "grid_auto_rows": null,
      "grid_column": null,
      "grid_gap": null,
      "grid_row": null,
      "grid_template_areas": null,
      "grid_template_columns": null,
      "grid_template_rows": null,
      "height": null,
      "justify_content": null,
      "justify_items": null,
      "left": null,
      "margin": null,
      "max_height": null,
      "max_width": null,
      "min_height": null,
      "min_width": null,
      "object_fit": null,
      "object_position": null,
      "order": null,
      "overflow": null,
      "overflow_x": null,
      "overflow_y": null,
      "padding": null,
      "right": null,
      "top": null,
      "visibility": null,
      "width": null
     }
    },
    "91928e1c61a448549ed206ef31798058": {
     "model_module": "@jupyter-widgets/base",
     "model_module_version": "1.2.0",
     "model_name": "LayoutModel",
     "state": {
      "_model_module": "@jupyter-widgets/base",
      "_model_module_version": "1.2.0",
      "_model_name": "LayoutModel",
      "_view_count": null,
      "_view_module": "@jupyter-widgets/base",
      "_view_module_version": "1.2.0",
      "_view_name": "LayoutView",
      "align_content": null,
      "align_items": null,
      "align_self": null,
      "border": null,
      "bottom": null,
      "display": null,
      "flex": null,
      "flex_flow": null,
      "grid_area": null,
      "grid_auto_columns": null,
      "grid_auto_flow": null,
      "grid_auto_rows": null,
      "grid_column": null,
      "grid_gap": null,
      "grid_row": null,
      "grid_template_areas": null,
      "grid_template_columns": null,
      "grid_template_rows": null,
      "height": null,
      "justify_content": null,
      "justify_items": null,
      "left": null,
      "margin": null,
      "max_height": null,
      "max_width": null,
      "min_height": null,
      "min_width": null,
      "object_fit": null,
      "object_position": null,
      "order": null,
      "overflow": null,
      "overflow_x": null,
      "overflow_y": null,
      "padding": null,
      "right": null,
      "top": null,
      "visibility": null,
      "width": null
     }
    },
    "98ec45bd631f4afdb19e504f9bda304e": {
     "model_module": "@jupyter-widgets/controls",
     "model_module_version": "1.5.0",
     "model_name": "HTMLModel",
     "state": {
      "_dom_classes": [],
      "_model_module": "@jupyter-widgets/controls",
      "_model_module_version": "1.5.0",
      "_model_name": "HTMLModel",
      "_view_count": null,
      "_view_module": "@jupyter-widgets/controls",
      "_view_module_version": "1.5.0",
      "_view_name": "HTMLView",
      "description": "",
      "description_tooltip": null,
      "layout": "IPY_MODEL_3bd4d30ccb614d51aa843926ab5cfdfb",
      "placeholder": "​",
      "style": "IPY_MODEL_8d5ff19381d243afb7b6f5d6aa8fa8a1",
      "value": " 49.0/49.0 [00:00&lt;00:00, 4.93kB/s]"
     }
    },
    "996e1d0791e144de88ab32c45dbee756": {
     "model_module": "@jupyter-widgets/base",
     "model_module_version": "1.2.0",
     "model_name": "LayoutModel",
     "state": {
      "_model_module": "@jupyter-widgets/base",
      "_model_module_version": "1.2.0",
      "_model_name": "LayoutModel",
      "_view_count": null,
      "_view_module": "@jupyter-widgets/base",
      "_view_module_version": "1.2.0",
      "_view_name": "LayoutView",
      "align_content": null,
      "align_items": null,
      "align_self": null,
      "border": null,
      "bottom": null,
      "display": null,
      "flex": null,
      "flex_flow": null,
      "grid_area": null,
      "grid_auto_columns": null,
      "grid_auto_flow": null,
      "grid_auto_rows": null,
      "grid_column": null,
      "grid_gap": null,
      "grid_row": null,
      "grid_template_areas": null,
      "grid_template_columns": null,
      "grid_template_rows": null,
      "height": null,
      "justify_content": null,
      "justify_items": null,
      "left": null,
      "margin": null,
      "max_height": null,
      "max_width": null,
      "min_height": null,
      "min_width": null,
      "object_fit": null,
      "object_position": null,
      "order": null,
      "overflow": null,
      "overflow_x": null,
      "overflow_y": null,
      "padding": null,
      "right": null,
      "top": null,
      "visibility": null,
      "width": null
     }
    },
    "9b425069f43f480ab7dff233aecc4284": {
     "model_module": "@jupyter-widgets/base",
     "model_module_version": "1.2.0",
     "model_name": "LayoutModel",
     "state": {
      "_model_module": "@jupyter-widgets/base",
      "_model_module_version": "1.2.0",
      "_model_name": "LayoutModel",
      "_view_count": null,
      "_view_module": "@jupyter-widgets/base",
      "_view_module_version": "1.2.0",
      "_view_name": "LayoutView",
      "align_content": null,
      "align_items": null,
      "align_self": null,
      "border": null,
      "bottom": null,
      "display": null,
      "flex": null,
      "flex_flow": null,
      "grid_area": null,
      "grid_auto_columns": null,
      "grid_auto_flow": null,
      "grid_auto_rows": null,
      "grid_column": null,
      "grid_gap": null,
      "grid_row": null,
      "grid_template_areas": null,
      "grid_template_columns": null,
      "grid_template_rows": null,
      "height": null,
      "justify_content": null,
      "justify_items": null,
      "left": null,
      "margin": null,
      "max_height": null,
      "max_width": null,
      "min_height": null,
      "min_width": null,
      "object_fit": null,
      "object_position": null,
      "order": null,
      "overflow": null,
      "overflow_x": null,
      "overflow_y": null,
      "padding": null,
      "right": null,
      "top": null,
      "visibility": null,
      "width": null
     }
    },
    "ace341d9470c4541887bad2f1d3a06ce": {
     "model_module": "@jupyter-widgets/controls",
     "model_module_version": "1.5.0",
     "model_name": "HBoxModel",
     "state": {
      "_dom_classes": [],
      "_model_module": "@jupyter-widgets/controls",
      "_model_module_version": "1.5.0",
      "_model_name": "HBoxModel",
      "_view_count": null,
      "_view_module": "@jupyter-widgets/controls",
      "_view_module_version": "1.5.0",
      "_view_name": "HBoxView",
      "box_style": "",
      "children": [
       "IPY_MODEL_1c12e971e2a94365ba48426904a5b9a9",
       "IPY_MODEL_58164b8106fb4339b56cd5055e4053e5",
       "IPY_MODEL_5355876f4df44a609ccc15738c04e3df"
      ],
      "layout": "IPY_MODEL_6bb5c87a097340cbb6cdac08714a3f72"
     }
    },
    "ae73db69e5364e9190a0d7a5f8510281": {
     "model_module": "@jupyter-widgets/base",
     "model_module_version": "1.2.0",
     "model_name": "LayoutModel",
     "state": {
      "_model_module": "@jupyter-widgets/base",
      "_model_module_version": "1.2.0",
      "_model_name": "LayoutModel",
      "_view_count": null,
      "_view_module": "@jupyter-widgets/base",
      "_view_module_version": "1.2.0",
      "_view_name": "LayoutView",
      "align_content": null,
      "align_items": null,
      "align_self": null,
      "border": null,
      "bottom": null,
      "display": null,
      "flex": null,
      "flex_flow": null,
      "grid_area": null,
      "grid_auto_columns": null,
      "grid_auto_flow": null,
      "grid_auto_rows": null,
      "grid_column": null,
      "grid_gap": null,
      "grid_row": null,
      "grid_template_areas": null,
      "grid_template_columns": null,
      "grid_template_rows": null,
      "height": null,
      "justify_content": null,
      "justify_items": null,
      "left": null,
      "margin": null,
      "max_height": null,
      "max_width": null,
      "min_height": null,
      "min_width": null,
      "object_fit": null,
      "object_position": null,
      "order": null,
      "overflow": null,
      "overflow_x": null,
      "overflow_y": null,
      "padding": null,
      "right": null,
      "top": null,
      "visibility": null,
      "width": null
     }
    },
    "bdfe4d524902488ab533555b8380a211": {
     "model_module": "@jupyter-widgets/controls",
     "model_module_version": "1.5.0",
     "model_name": "ProgressStyleModel",
     "state": {
      "_model_module": "@jupyter-widgets/controls",
      "_model_module_version": "1.5.0",
      "_model_name": "ProgressStyleModel",
      "_view_count": null,
      "_view_module": "@jupyter-widgets/base",
      "_view_module_version": "1.2.0",
      "_view_name": "StyleView",
      "bar_color": null,
      "description_width": ""
     }
    },
    "c56d8f49140f4ead9498d0b73f519ddb": {
     "model_module": "@jupyter-widgets/controls",
     "model_module_version": "1.5.0",
     "model_name": "ProgressStyleModel",
     "state": {
      "_model_module": "@jupyter-widgets/controls",
      "_model_module_version": "1.5.0",
      "_model_name": "ProgressStyleModel",
      "_view_count": null,
      "_view_module": "@jupyter-widgets/base",
      "_view_module_version": "1.2.0",
      "_view_name": "StyleView",
      "bar_color": null,
      "description_width": ""
     }
    },
    "cafa7bdde2cf4eddb4638dde9edada1c": {
     "model_module": "@jupyter-widgets/controls",
     "model_module_version": "1.5.0",
     "model_name": "DescriptionStyleModel",
     "state": {
      "_model_module": "@jupyter-widgets/controls",
      "_model_module_version": "1.5.0",
      "_model_name": "DescriptionStyleModel",
      "_view_count": null,
      "_view_module": "@jupyter-widgets/base",
      "_view_module_version": "1.2.0",
      "_view_name": "StyleView",
      "description_width": ""
     }
    },
    "cc3123a0efc4419f9eb11b9058a3278e": {
     "model_module": "@jupyter-widgets/controls",
     "model_module_version": "1.5.0",
     "model_name": "HBoxModel",
     "state": {
      "_dom_classes": [],
      "_model_module": "@jupyter-widgets/controls",
      "_model_module_version": "1.5.0",
      "_model_name": "HBoxModel",
      "_view_count": null,
      "_view_module": "@jupyter-widgets/controls",
      "_view_module_version": "1.5.0",
      "_view_name": "HBoxView",
      "box_style": "",
      "children": [
       "IPY_MODEL_cc99d22c1deb4806a26684388499920f",
       "IPY_MODEL_0f9cbbe918a345b7b67a8b69a9c4d23e",
       "IPY_MODEL_98ec45bd631f4afdb19e504f9bda304e"
      ],
      "layout": "IPY_MODEL_e91852b58e784d6da2e7cc9bdded91d9"
     }
    },
    "cc99d22c1deb4806a26684388499920f": {
     "model_module": "@jupyter-widgets/controls",
     "model_module_version": "1.5.0",
     "model_name": "HTMLModel",
     "state": {
      "_dom_classes": [],
      "_model_module": "@jupyter-widgets/controls",
      "_model_module_version": "1.5.0",
      "_model_name": "HTMLModel",
      "_view_count": null,
      "_view_module": "@jupyter-widgets/controls",
      "_view_module_version": "1.5.0",
      "_view_name": "HTMLView",
      "description": "",
      "description_tooltip": null,
      "layout": "IPY_MODEL_435cb951a3ad4dba94aa310bc21cfe40",
      "placeholder": "​",
      "style": "IPY_MODEL_f5c8e7e129974cdca0b2768d5938c99e",
      "value": "tokenizer_config.json: 100%"
     }
    },
    "cf8ba464be2746a28b8ee2488804a8e5": {
     "model_module": "@jupyter-widgets/controls",
     "model_module_version": "1.5.0",
     "model_name": "DescriptionStyleModel",
     "state": {
      "_model_module": "@jupyter-widgets/controls",
      "_model_module_version": "1.5.0",
      "_model_name": "DescriptionStyleModel",
      "_view_count": null,
      "_view_module": "@jupyter-widgets/base",
      "_view_module_version": "1.2.0",
      "_view_name": "StyleView",
      "description_width": ""
     }
    },
    "decff6a632504ef4874f8cb20baf2db5": {
     "model_module": "@jupyter-widgets/controls",
     "model_module_version": "1.5.0",
     "model_name": "FloatProgressModel",
     "state": {
      "_dom_classes": [],
      "_model_module": "@jupyter-widgets/controls",
      "_model_module_version": "1.5.0",
      "_model_name": "FloatProgressModel",
      "_view_count": null,
      "_view_module": "@jupyter-widgets/controls",
      "_view_module_version": "1.5.0",
      "_view_name": "ProgressView",
      "bar_style": "success",
      "description": "",
      "description_tooltip": null,
      "layout": "IPY_MODEL_630aede87cdf406799e1a7350ae1bdf6",
      "max": 254728,
      "min": 0,
      "orientation": "horizontal",
      "style": "IPY_MODEL_808bafc7ec034fe0a85905a4166bd646",
      "value": 254728
     }
    },
    "e6b06fbb1c05488bb7d9c385daf55e63": {
     "model_module": "@jupyter-widgets/base",
     "model_module_version": "1.2.0",
     "model_name": "LayoutModel",
     "state": {
      "_model_module": "@jupyter-widgets/base",
      "_model_module_version": "1.2.0",
      "_model_name": "LayoutModel",
      "_view_count": null,
      "_view_module": "@jupyter-widgets/base",
      "_view_module_version": "1.2.0",
      "_view_name": "LayoutView",
      "align_content": null,
      "align_items": null,
      "align_self": null,
      "border": null,
      "bottom": null,
      "display": null,
      "flex": null,
      "flex_flow": null,
      "grid_area": null,
      "grid_auto_columns": null,
      "grid_auto_flow": null,
      "grid_auto_rows": null,
      "grid_column": null,
      "grid_gap": null,
      "grid_row": null,
      "grid_template_areas": null,
      "grid_template_columns": null,
      "grid_template_rows": null,
      "height": null,
      "justify_content": null,
      "justify_items": null,
      "left": null,
      "margin": null,
      "max_height": null,
      "max_width": null,
      "min_height": null,
      "min_width": null,
      "object_fit": null,
      "object_position": null,
      "order": null,
      "overflow": null,
      "overflow_x": null,
      "overflow_y": null,
      "padding": null,
      "right": null,
      "top": null,
      "visibility": null,
      "width": null
     }
    },
    "e8c9b17e9a154c1bb9fff68d34eb7610": {
     "model_module": "@jupyter-widgets/controls",
     "model_module_version": "1.5.0",
     "model_name": "HTMLModel",
     "state": {
      "_dom_classes": [],
      "_model_module": "@jupyter-widgets/controls",
      "_model_module_version": "1.5.0",
      "_model_name": "HTMLModel",
      "_view_count": null,
      "_view_module": "@jupyter-widgets/controls",
      "_view_module_version": "1.5.0",
      "_view_name": "HTMLView",
      "description": "",
      "description_tooltip": null,
      "layout": "IPY_MODEL_70e62c3b70e346a3af9f0458023edf28",
      "placeholder": "​",
      "style": "IPY_MODEL_6fcfa564d01e477aaa7492743e5d137e",
      "value": " 255k/255k [00:00&lt;00:00, 1.12MB/s]"
     }
    },
    "e91852b58e784d6da2e7cc9bdded91d9": {
     "model_module": "@jupyter-widgets/base",
     "model_module_version": "1.2.0",
     "model_name": "LayoutModel",
     "state": {
      "_model_module": "@jupyter-widgets/base",
      "_model_module_version": "1.2.0",
      "_model_name": "LayoutModel",
      "_view_count": null,
      "_view_module": "@jupyter-widgets/base",
      "_view_module_version": "1.2.0",
      "_view_name": "LayoutView",
      "align_content": null,
      "align_items": null,
      "align_self": null,
      "border": null,
      "bottom": null,
      "display": null,
      "flex": null,
      "flex_flow": null,
      "grid_area": null,
      "grid_auto_columns": null,
      "grid_auto_flow": null,
      "grid_auto_rows": null,
      "grid_column": null,
      "grid_gap": null,
      "grid_row": null,
      "grid_template_areas": null,
      "grid_template_columns": null,
      "grid_template_rows": null,
      "height": null,
      "justify_content": null,
      "justify_items": null,
      "left": null,
      "margin": null,
      "max_height": null,
      "max_width": null,
      "min_height": null,
      "min_width": null,
      "object_fit": null,
      "object_position": null,
      "order": null,
      "overflow": null,
      "overflow_x": null,
      "overflow_y": null,
      "padding": null,
      "right": null,
      "top": null,
      "visibility": null,
      "width": null
     }
    },
    "f1d48a731e184513a1058896008f056d": {
     "model_module": "@jupyter-widgets/controls",
     "model_module_version": "1.5.0",
     "model_name": "HBoxModel",
     "state": {
      "_dom_classes": [],
      "_model_module": "@jupyter-widgets/controls",
      "_model_module_version": "1.5.0",
      "_model_name": "HBoxModel",
      "_view_count": null,
      "_view_module": "@jupyter-widgets/controls",
      "_view_module_version": "1.5.0",
      "_view_name": "HBoxView",
      "box_style": "",
      "children": [
       "IPY_MODEL_2117378f8534466baa392c7893426836",
       "IPY_MODEL_344c5e58ff8f47a894100e890dc79ea9",
       "IPY_MODEL_7895749a30564b2485345587f8f847a9"
      ],
      "layout": "IPY_MODEL_8f8ffdf707a0461592df3a6e2eff06f5"
     }
    },
    "f5c8e7e129974cdca0b2768d5938c99e": {
     "model_module": "@jupyter-widgets/controls",
     "model_module_version": "1.5.0",
     "model_name": "DescriptionStyleModel",
     "state": {
      "_model_module": "@jupyter-widgets/controls",
      "_model_module_version": "1.5.0",
      "_model_name": "DescriptionStyleModel",
      "_view_count": null,
      "_view_module": "@jupyter-widgets/base",
      "_view_module_version": "1.2.0",
      "_view_name": "StyleView",
      "description_width": ""
     }
    },
    "fa04d598e9cf4d9895ded867ce9dc041": {
     "model_module": "@jupyter-widgets/controls",
     "model_module_version": "1.5.0",
     "model_name": "HTMLModel",
     "state": {
      "_dom_classes": [],
      "_model_module": "@jupyter-widgets/controls",
      "_model_module_version": "1.5.0",
      "_model_name": "HTMLModel",
      "_view_count": null,
      "_view_module": "@jupyter-widgets/controls",
      "_view_module_version": "1.5.0",
      "_view_name": "HTMLView",
      "description": "",
      "description_tooltip": null,
      "layout": "IPY_MODEL_9b425069f43f480ab7dff233aecc4284",
      "placeholder": "​",
      "style": "IPY_MODEL_38732b31d1ae430bb1fea66e2a469d35",
      "value": "vocab.txt: 100%"
     }
    },
    "fb0302acaabc4842adba213a14a1ccb4": {
     "model_module": "@jupyter-widgets/base",
     "model_module_version": "1.2.0",
     "model_name": "LayoutModel",
     "state": {
      "_model_module": "@jupyter-widgets/base",
      "_model_module_version": "1.2.0",
      "_model_name": "LayoutModel",
      "_view_count": null,
      "_view_module": "@jupyter-widgets/base",
      "_view_module_version": "1.2.0",
      "_view_name": "LayoutView",
      "align_content": null,
      "align_items": null,
      "align_self": null,
      "border": null,
      "bottom": null,
      "display": null,
      "flex": null,
      "flex_flow": null,
      "grid_area": null,
      "grid_auto_columns": null,
      "grid_auto_flow": null,
      "grid_auto_rows": null,
      "grid_column": null,
      "grid_gap": null,
      "grid_row": null,
      "grid_template_areas": null,
      "grid_template_columns": null,
      "grid_template_rows": null,
      "height": null,
      "justify_content": null,
      "justify_items": null,
      "left": null,
      "margin": null,
      "max_height": null,
      "max_width": null,
      "min_height": null,
      "min_width": null,
      "object_fit": null,
      "object_position": null,
      "order": null,
      "overflow": null,
      "overflow_x": null,
      "overflow_y": null,
      "padding": null,
      "right": null,
      "top": null,
      "visibility": null,
      "width": null
     }
    }
   }
  }
 },
 "nbformat": 4,
 "nbformat_minor": 5
}
